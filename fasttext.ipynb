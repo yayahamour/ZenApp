{
  "cells": [
    {
      "cell_type": "markdown",
      "metadata": {},
      "source": [
        "# Fast Text"
      ]
    },
    {
      "cell_type": "markdown",
      "metadata": {},
      "source": [
        "### Lecture et preprocessing"
      ]
    },
    {
      "cell_type": "code",
      "execution_count": 8,
      "metadata": {
        "colab": {
          "base_uri": "https://localhost:8080/"
        },
        "id": "Q6x6JNkDFsGH",
        "outputId": "e5e6fa31-d915-44fe-e1e9-3746d5d5ea90"
      },
      "outputs": [],
      "source": [
        "import pandas as pd\n",
        "import csv\n",
        "from sklearn.model_selection import train_test_split\n",
        "\n",
        "data = pd.read_csv(\"data/Emotion_final.csv\")"
      ]
    },
    {
      "cell_type": "code",
      "execution_count": 9,
      "metadata": {
        "id": "ySQpGqVzSeNz"
      },
      "outputs": [],
      "source": [
        "from prepocessing import preprocessing\n",
        "data = preprocessing(data,categories = {'sadness' : \"__label__0\", 'surprise' : \"__label__1\", 'anger' : \"__label__2\", 'fear' : \"__label__3\", 'happy' : \"__label__4\", 'love' : \"__label__5\"})"
      ]
    },
    {
      "cell_type": "markdown",
      "metadata": {},
      "source": [
        "### Split"
      ]
    },
    {
      "cell_type": "code",
      "execution_count": 10,
      "metadata": {},
      "outputs": [],
      "source": [
        "train, test = train_test_split(data, test_size=0.2,  random_state=42, shuffle=True, stratify= data[\"Emotion\"])\n",
        "train, valid = train_test_split(train, test_size=0.2,  random_state=42, shuffle=True, stratify= train[\"Emotion\"])"
      ]
    },
    {
      "cell_type": "markdown",
      "metadata": {},
      "source": [
        "### Mise en place FastText"
      ]
    },
    {
      "cell_type": "code",
      "execution_count": 11,
      "metadata": {
        "id": "WdLBRNKlZTEs"
      },
      "outputs": [],
      "source": [
        "train[['target', 'clean_text']].to_csv('data/train.txt', index = False, sep = ' ', header = None,quoting = csv.QUOTE_NONE, quotechar = \"\", escapechar = \" \")\n",
        "test[['target', 'clean_text']].to_csv('data/test.txt', index = False, sep = ' ', header = None,quoting = csv.QUOTE_NONE, quotechar = \"\", escapechar = \" \")\n",
        "valid[['target', 'clean_text']].to_csv('data/valid.txt', index = False, sep = ' ', header = None,quoting = csv.QUOTE_NONE, quotechar = \"\", escapechar = \" \")"
      ]
    },
    {
      "cell_type": "markdown",
      "metadata": {},
      "source": [
        "Entrainement et test du model"
      ]
    },
    {
      "cell_type": "code",
      "execution_count": 12,
      "metadata": {
        "id": "ZvJgBaJaZlUE"
      },
      "outputs": [],
      "source": [
        "import fasttext\n",
        "model = fasttext.train_supervised('data/train.txt', autotuneValidationFile='data/valid.txt')"
      ]
    },
    {
      "cell_type": "code",
      "execution_count": 13,
      "metadata": {
        "id": "X8o6dyP0Qpxa"
      },
      "outputs": [
        {
          "data": {
            "text/plain": [
              "(4292, 0.8627679403541473, 0.8627679403541473)"
            ]
          },
          "execution_count": 13,
          "metadata": {},
          "output_type": "execute_result"
        }
      ],
      "source": [
        "model.test('data/test.txt')"
      ]
    }
  ],
  "metadata": {
    "colab": {
      "collapsed_sections": [],
      "name": "fasttext.ipynb",
      "provenance": []
    },
    "interpreter": {
      "hash": "dae70258655f884a3dc71f6681bcd80e8df9eed8118776e81fd81fbc2cc0f272"
    },
    "kernelspec": {
      "display_name": "Python 3.9.7 ('dasc')",
      "language": "python",
      "name": "python3"
    },
    "language_info": {
      "codemirror_mode": {
        "name": "ipython",
        "version": 3
      },
      "file_extension": ".py",
      "mimetype": "text/x-python",
      "name": "python",
      "nbconvert_exporter": "python",
      "pygments_lexer": "ipython3",
      "version": "3.9.7"
    },
    "orig_nbformat": 4
  },
  "nbformat": 4,
  "nbformat_minor": 0
}
