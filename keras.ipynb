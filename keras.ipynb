{
  "cells": [
    {
      "cell_type": "markdown",
      "metadata": {},
      "source": [
        "# Keras"
      ]
    },
    {
      "cell_type": "markdown",
      "metadata": {},
      "source": [
        "### Lecture et preprocessing"
      ]
    },
    {
      "cell_type": "code",
      "execution_count": 31,
      "metadata": {
        "colab": {
          "base_uri": "https://localhost:8080/"
        },
        "id": "eogI7qTItnx9",
        "outputId": "2f2f631d-ea70-4bbd-b49e-b3806afb4eba"
      },
      "outputs": [
        {
          "name": "stderr",
          "output_type": "stream",
          "text": [
            "[nltk_data] Downloading package averaged_perceptron_tagger to\n",
            "[nltk_data]     C:\\Users\\Apprenant\\AppData\\Roaming\\nltk_data...\n",
            "[nltk_data]   Package averaged_perceptron_tagger is already up-to-\n",
            "[nltk_data]       date!\n",
            "[nltk_data] Downloading package punkt to\n",
            "[nltk_data]     C:\\Users\\Apprenant\\AppData\\Roaming\\nltk_data...\n",
            "[nltk_data]   Package punkt is already up-to-date!\n",
            "[nltk_data] Downloading package wordnet to\n",
            "[nltk_data]     C:\\Users\\Apprenant\\AppData\\Roaming\\nltk_data...\n",
            "[nltk_data]   Package wordnet is already up-to-date!\n",
            "[nltk_data] Downloading package omw-1.4 to\n",
            "[nltk_data]     C:\\Users\\Apprenant\\AppData\\Roaming\\nltk_data...\n",
            "[nltk_data]   Package omw-1.4 is already up-to-date!\n"
          ]
        }
      ],
      "source": [
        "import numpy as np\n",
        "import pandas as pd\n",
        "from tensorflow import keras\n",
        "import nltk\n",
        "from prepocessing import preprocessing\n",
        "from keras.preprocessing.text import Tokenizer\n",
        "from keras.layers import TextVectorization\n",
        "import tensorflow as tf\n",
        "from sklearn.model_selection import train_test_split\n",
        "from keras.preprocessing.sequence import pad_sequences\n",
        "\n",
        "\n",
        "nltk.download('averaged_perceptron_tagger')\n",
        "nltk.download('punkt')\n",
        "nltk.download('wordnet')\n",
        "nltk.download('omw-1.4')\n",
        "\n",
        "\n",
        "categories = ['sadness', 'surprise', 'anger', 'fear', 'happy', 'love']\n",
        "data = pd.read_csv(\"data/Emotion_final.csv\")"
      ]
    },
    {
      "cell_type": "code",
      "execution_count": 32,
      "metadata": {
        "id": "ItwTjCR9uk3i"
      },
      "outputs": [],
      "source": [
        "data = preprocessing(data)"
      ]
    },
    {
      "cell_type": "markdown",
      "metadata": {},
      "source": [
        "### Vectorization et Tokenization"
      ]
    },
    {
      "cell_type": "code",
      "execution_count": 33,
      "metadata": {
        "id": "XstBXIoetnyE"
      },
      "outputs": [],
      "source": [
        "vectorizer = TextVectorization(max_tokens=15728, output_sequence_length=200)\n",
        "text_ds =tf.data.Dataset.from_tensor_slices(data[\"clean_text\"]).batch(128)\n",
        "vectorizer.adapt(text_ds)\n",
        "voc = vectorizer.get_vocabulary()\n",
        "word_index = dict(zip(voc, range(len(voc))))"
      ]
    },
    {
      "cell_type": "code",
      "execution_count": 34,
      "metadata": {
        "colab": {
          "base_uri": "https://localhost:8080/"
        },
        "id": "neh4F-U_tnyG",
        "outputId": "b3cee44a-574a-452a-bd82-62ebe344f499"
      },
      "outputs": [
        {
          "name": "stderr",
          "output_type": "stream",
          "text": [
            "c:\\Users\\Apprenant\\.conda\\envs\\dasc\\lib\\site-packages\\keras_preprocessing\\text.py:180: UserWarning: The `nb_words` argument in `Tokenizer` has been renamed `num_words`.\n",
            "  warnings.warn('The `nb_words` argument in `Tokenizer` '\n"
          ]
        }
      ],
      "source": [
        "tokenizer = Tokenizer(nb_words=15729)\n",
        "tokenizer.fit_on_texts(data[\"clean_text\"])\n",
        "data[\"text_encode\"] = tokenizer.texts_to_sequences(data[\"clean_text\"])\n",
        "word_index = tokenizer.word_index"
      ]
    },
    {
      "cell_type": "code",
      "execution_count": 35,
      "metadata": {
        "id": "n3Qhdp4OtnyJ"
      },
      "outputs": [],
      "source": [
        "train, test = train_test_split(data, test_size=0.2,  random_state=42, shuffle=True, stratify= data[\"Emotion\"])"
      ]
    },
    {
      "cell_type": "markdown",
      "metadata": {},
      "source": [
        "### Préparation embedding"
      ]
    },
    {
      "cell_type": "code",
      "execution_count": 36,
      "metadata": {
        "id": "D-m5ImkgrEAF"
      },
      "outputs": [],
      "source": [
        "embeddings_index = {}\n",
        "f = open('glove/glove.6B.100d.txt',encoding=\"utf-8\" )\n",
        "for line in f:\n",
        "    values = line.split()\n",
        "    word = values[0]\n",
        "    coefs = np.asarray(values[1:], dtype='float32')\n",
        "    embeddings_index[word] = coefs\n",
        "f.close()"
      ]
    },
    {
      "cell_type": "code",
      "execution_count": 37,
      "metadata": {
        "id": "jafw3eYarWGR"
      },
      "outputs": [],
      "source": [
        "embedding_matrix = np.zeros((len(word_index) + 1, 100))\n",
        "for word, i in word_index.items():\n",
        "    embedding_vector = embeddings_index.get(word)\n",
        "    if embedding_vector is not None:\n",
        "        embedding_matrix[i] = embedding_vector"
      ]
    },
    {
      "cell_type": "code",
      "execution_count": 38,
      "metadata": {
        "id": "eOhmIANYtnyK"
      },
      "outputs": [],
      "source": [
        "padded_sequence = pad_sequences(train[\"text_encode\"], padding='post')\n",
        "padded_sequence_test = pad_sequences(test[\"text_encode\"], padding='post')\n"
      ]
    },
    {
      "cell_type": "markdown",
      "metadata": {},
      "source": [
        "### Réseau neurones"
      ]
    },
    {
      "cell_type": "code",
      "execution_count": 48,
      "metadata": {},
      "outputs": [
        {
          "data": {
            "text/plain": [
              "9361     3\n",
              "20981    2\n",
              "19654    0\n",
              "20677    0\n",
              "17521    0\n",
              "        ..\n",
              "21403    3\n",
              "3621     3\n",
              "13926    4\n",
              "1444     4\n",
              "5531     5\n",
              "Name: target, Length: 4292, dtype: int64"
            ]
          },
          "execution_count": 48,
          "metadata": {},
          "output_type": "execute_result"
        }
      ],
      "source": [
        "test.target"
      ]
    },
    {
      "cell_type": "code",
      "execution_count": 43,
      "metadata": {},
      "outputs": [
        {
          "name": "stdout",
          "output_type": "stream",
          "text": [
            "Epoch 1/1000\n",
            "98/98 [==============================] - 11s 80ms/step - loss: 1.6334 - accuracy: 0.3206 - val_loss: 1.5384 - val_accuracy: 0.3657\n",
            "Epoch 2/1000\n",
            "98/98 [==============================] - 7s 69ms/step - loss: 1.4836 - accuracy: 0.4394 - val_loss: 1.4177 - val_accuracy: 0.4740\n",
            "Epoch 3/1000\n",
            "98/98 [==============================] - 7s 68ms/step - loss: 1.4038 - accuracy: 0.4799 - val_loss: 1.3281 - val_accuracy: 0.4926\n",
            "Epoch 4/1000\n",
            "98/98 [==============================] - 7s 67ms/step - loss: 1.3488 - accuracy: 0.4920 - val_loss: 1.2571 - val_accuracy: 0.5252\n",
            "Epoch 5/1000\n",
            "98/98 [==============================] - 6s 66ms/step - loss: 1.2827 - accuracy: 0.5202 - val_loss: 1.1569 - val_accuracy: 0.5675\n",
            "Epoch 6/1000\n",
            "98/98 [==============================] - 7s 66ms/step - loss: 1.2203 - accuracy: 0.5398 - val_loss: 1.0931 - val_accuracy: 0.5854\n",
            "Epoch 7/1000\n",
            "98/98 [==============================] - 6s 66ms/step - loss: 1.1669 - accuracy: 0.5623 - val_loss: 1.0467 - val_accuracy: 0.5963\n",
            "Epoch 8/1000\n",
            "98/98 [==============================] - 7s 67ms/step - loss: 1.1160 - accuracy: 0.5828 - val_loss: 0.9868 - val_accuracy: 0.6234\n",
            "Epoch 9/1000\n",
            "98/98 [==============================] - 7s 67ms/step - loss: 1.0842 - accuracy: 0.5910 - val_loss: 0.9540 - val_accuracy: 0.6300\n",
            "Epoch 10/1000\n",
            "98/98 [==============================] - 7s 67ms/step - loss: 1.0457 - accuracy: 0.6048 - val_loss: 0.9164 - val_accuracy: 0.6452\n",
            "Epoch 11/1000\n",
            "98/98 [==============================] - 7s 68ms/step - loss: 1.0238 - accuracy: 0.6167 - val_loss: 0.8848 - val_accuracy: 0.6568\n",
            "Epoch 12/1000\n",
            "98/98 [==============================] - 7s 70ms/step - loss: 0.9925 - accuracy: 0.6197 - val_loss: 0.8482 - val_accuracy: 0.6693\n",
            "Epoch 13/1000\n",
            "98/98 [==============================] - 7s 67ms/step - loss: 0.9666 - accuracy: 0.6348 - val_loss: 0.8371 - val_accuracy: 0.6724\n",
            "Epoch 14/1000\n",
            "98/98 [==============================] - 7s 67ms/step - loss: 0.9494 - accuracy: 0.6364 - val_loss: 0.8574 - val_accuracy: 0.6696\n",
            "Epoch 15/1000\n",
            "98/98 [==============================] - 7s 73ms/step - loss: 0.9251 - accuracy: 0.6493 - val_loss: 0.7980 - val_accuracy: 0.6933\n",
            "Epoch 16/1000\n",
            "98/98 [==============================] - 7s 70ms/step - loss: 0.8896 - accuracy: 0.6637 - val_loss: 0.7308 - val_accuracy: 0.7302\n",
            "Epoch 17/1000\n",
            "98/98 [==============================] - 7s 70ms/step - loss: 0.8854 - accuracy: 0.6687 - val_loss: 0.7537 - val_accuracy: 0.7298\n",
            "Epoch 18/1000\n",
            "98/98 [==============================] - 7s 70ms/step - loss: 0.8447 - accuracy: 0.6911 - val_loss: 0.7031 - val_accuracy: 0.7473\n",
            "Epoch 19/1000\n",
            "98/98 [==============================] - 7s 70ms/step - loss: 0.8293 - accuracy: 0.6945 - val_loss: 0.7198 - val_accuracy: 0.7399\n",
            "Epoch 20/1000\n",
            "98/98 [==============================] - 7s 69ms/step - loss: 0.8056 - accuracy: 0.7111 - val_loss: 0.6487 - val_accuracy: 0.7745\n",
            "Epoch 21/1000\n",
            "98/98 [==============================] - 7s 69ms/step - loss: 0.7717 - accuracy: 0.7234 - val_loss: 0.6360 - val_accuracy: 0.7717\n",
            "Epoch 22/1000\n",
            "98/98 [==============================] - 7s 71ms/step - loss: 0.7676 - accuracy: 0.7220 - val_loss: 0.6227 - val_accuracy: 0.7675\n",
            "Epoch 23/1000\n",
            "98/98 [==============================] - 7s 74ms/step - loss: 0.7423 - accuracy: 0.7341 - val_loss: 0.5891 - val_accuracy: 0.7908\n",
            "Epoch 24/1000\n",
            "98/98 [==============================] - 7s 67ms/step - loss: 0.7159 - accuracy: 0.7412 - val_loss: 0.5534 - val_accuracy: 0.7954\n",
            "Epoch 25/1000\n",
            "98/98 [==============================] - 7s 68ms/step - loss: 0.7076 - accuracy: 0.7485 - val_loss: 0.5562 - val_accuracy: 0.7950\n",
            "Epoch 26/1000\n",
            "98/98 [==============================] - 7s 69ms/step - loss: 0.6913 - accuracy: 0.7538 - val_loss: 0.5426 - val_accuracy: 0.8012\n",
            "Epoch 27/1000\n",
            "98/98 [==============================] - 7s 68ms/step - loss: 0.6769 - accuracy: 0.7610 - val_loss: 0.5161 - val_accuracy: 0.8218\n",
            "Epoch 28/1000\n",
            "98/98 [==============================] - 7s 70ms/step - loss: 0.6531 - accuracy: 0.7693 - val_loss: 0.5362 - val_accuracy: 0.8098\n",
            "Epoch 29/1000\n",
            "98/98 [==============================] - 7s 71ms/step - loss: 0.6482 - accuracy: 0.7725 - val_loss: 0.4951 - val_accuracy: 0.8203\n",
            "Epoch 30/1000\n",
            "98/98 [==============================] - 7s 71ms/step - loss: 0.6442 - accuracy: 0.7729 - val_loss: 0.4951 - val_accuracy: 0.8288\n",
            "Epoch 31/1000\n",
            "98/98 [==============================] - 7s 70ms/step - loss: 0.6229 - accuracy: 0.7790 - val_loss: 0.4870 - val_accuracy: 0.8218\n",
            "Epoch 32/1000\n",
            "98/98 [==============================] - 7s 70ms/step - loss: 0.6098 - accuracy: 0.7856 - val_loss: 0.4650 - val_accuracy: 0.8342\n",
            "Epoch 33/1000\n",
            "98/98 [==============================] - 7s 71ms/step - loss: 0.6013 - accuracy: 0.7882 - val_loss: 0.4684 - val_accuracy: 0.8381\n",
            "Epoch 34/1000\n",
            "98/98 [==============================] - 7s 71ms/step - loss: 0.5948 - accuracy: 0.7890 - val_loss: 0.4605 - val_accuracy: 0.8307\n",
            "Epoch 35/1000\n",
            "98/98 [==============================] - 7s 68ms/step - loss: 0.5749 - accuracy: 0.7903 - val_loss: 0.4695 - val_accuracy: 0.8304\n",
            "Epoch 36/1000\n",
            "98/98 [==============================] - 7s 71ms/step - loss: 0.5764 - accuracy: 0.7923 - val_loss: 0.4477 - val_accuracy: 0.8389\n",
            "Epoch 37/1000\n",
            "98/98 [==============================] - 7s 71ms/step - loss: 0.5676 - accuracy: 0.7991 - val_loss: 0.4474 - val_accuracy: 0.8385\n",
            "Epoch 38/1000\n",
            "98/98 [==============================] - 7s 69ms/step - loss: 0.5610 - accuracy: 0.8013 - val_loss: 0.4590 - val_accuracy: 0.8296\n",
            "Epoch 39/1000\n",
            "98/98 [==============================] - 7s 68ms/step - loss: 0.5518 - accuracy: 0.8082 - val_loss: 0.4610 - val_accuracy: 0.8331\n",
            "Epoch 40/1000\n",
            "98/98 [==============================] - 7s 70ms/step - loss: 0.5460 - accuracy: 0.8077 - val_loss: 0.4273 - val_accuracy: 0.8490\n",
            "Epoch 41/1000\n",
            "98/98 [==============================] - 7s 70ms/step - loss: 0.5383 - accuracy: 0.8086 - val_loss: 0.4248 - val_accuracy: 0.8432\n",
            "Epoch 42/1000\n",
            "98/98 [==============================] - 7s 71ms/step - loss: 0.5243 - accuracy: 0.8118 - val_loss: 0.4156 - val_accuracy: 0.8478\n",
            "Epoch 43/1000\n",
            "98/98 [==============================] - 7s 72ms/step - loss: 0.5230 - accuracy: 0.8089 - val_loss: 0.4223 - val_accuracy: 0.8447\n",
            "Epoch 44/1000\n",
            "98/98 [==============================] - 7s 66ms/step - loss: 0.5059 - accuracy: 0.8185 - val_loss: 0.4067 - val_accuracy: 0.8525\n",
            "Epoch 45/1000\n",
            "98/98 [==============================] - 7s 70ms/step - loss: 0.5047 - accuracy: 0.8175 - val_loss: 0.4217 - val_accuracy: 0.8439\n",
            "Epoch 46/1000\n",
            "98/98 [==============================] - 7s 70ms/step - loss: 0.5038 - accuracy: 0.8207 - val_loss: 0.4054 - val_accuracy: 0.8533\n",
            "Epoch 47/1000\n",
            "98/98 [==============================] - 7s 69ms/step - loss: 0.4960 - accuracy: 0.8266 - val_loss: 0.3959 - val_accuracy: 0.8568\n",
            "Epoch 48/1000\n",
            "98/98 [==============================] - 7s 69ms/step - loss: 0.5015 - accuracy: 0.8230 - val_loss: 0.3957 - val_accuracy: 0.8591\n",
            "Epoch 49/1000\n",
            "98/98 [==============================] - 7s 70ms/step - loss: 0.4926 - accuracy: 0.8264 - val_loss: 0.4034 - val_accuracy: 0.8536\n",
            "Epoch 50/1000\n",
            "98/98 [==============================] - 7s 71ms/step - loss: 0.4818 - accuracy: 0.8274 - val_loss: 0.3943 - val_accuracy: 0.8602\n",
            "Epoch 51/1000\n",
            "98/98 [==============================] - 7s 69ms/step - loss: 0.4778 - accuracy: 0.8310 - val_loss: 0.3948 - val_accuracy: 0.8599\n",
            "Epoch 52/1000\n",
            "98/98 [==============================] - 7s 69ms/step - loss: 0.4669 - accuracy: 0.8322 - val_loss: 0.3895 - val_accuracy: 0.8533\n",
            "Epoch 53/1000\n",
            "98/98 [==============================] - 7s 74ms/step - loss: 0.4770 - accuracy: 0.8313 - val_loss: 0.3813 - val_accuracy: 0.8599\n",
            "Epoch 54/1000\n",
            "98/98 [==============================] - 8s 78ms/step - loss: 0.4657 - accuracy: 0.8330 - val_loss: 0.3796 - val_accuracy: 0.8653\n",
            "Epoch 55/1000\n",
            "98/98 [==============================] - 8s 78ms/step - loss: 0.4694 - accuracy: 0.8350 - val_loss: 0.3747 - val_accuracy: 0.8599\n",
            "Epoch 56/1000\n",
            "98/98 [==============================] - 7s 77ms/step - loss: 0.4510 - accuracy: 0.8381 - val_loss: 0.3790 - val_accuracy: 0.8653\n",
            "Epoch 57/1000\n",
            "98/98 [==============================] - 8s 77ms/step - loss: 0.4450 - accuracy: 0.8414 - val_loss: 0.3828 - val_accuracy: 0.8575\n",
            "Epoch 58/1000\n",
            "98/98 [==============================] - 7s 72ms/step - loss: 0.4569 - accuracy: 0.8385 - val_loss: 0.3854 - val_accuracy: 0.8630\n",
            "Epoch 59/1000\n",
            "98/98 [==============================] - 7s 72ms/step - loss: 0.4439 - accuracy: 0.8385 - val_loss: 0.3727 - val_accuracy: 0.8684\n",
            "Epoch 60/1000\n",
            "98/98 [==============================] - 8s 79ms/step - loss: 0.4433 - accuracy: 0.8415 - val_loss: 0.3785 - val_accuracy: 0.8688\n",
            "Epoch 61/1000\n",
            "98/98 [==============================] - 8s 77ms/step - loss: 0.4399 - accuracy: 0.8426 - val_loss: 0.3574 - val_accuracy: 0.8668\n",
            "Epoch 62/1000\n",
            "98/98 [==============================] - 7s 75ms/step - loss: 0.4400 - accuracy: 0.8450 - val_loss: 0.3928 - val_accuracy: 0.8618\n",
            "Epoch 63/1000\n",
            "98/98 [==============================] - 7s 72ms/step - loss: 0.4278 - accuracy: 0.8450 - val_loss: 0.3684 - val_accuracy: 0.8676\n",
            "Epoch 64/1000\n",
            "98/98 [==============================] - 7s 70ms/step - loss: 0.4289 - accuracy: 0.8455 - val_loss: 0.3606 - val_accuracy: 0.8711\n",
            "Epoch 65/1000\n",
            "98/98 [==============================] - 7s 71ms/step - loss: 0.4280 - accuracy: 0.8470 - val_loss: 0.3575 - val_accuracy: 0.8700\n",
            "Epoch 66/1000\n",
            "98/98 [==============================] - 7s 73ms/step - loss: 0.4207 - accuracy: 0.8507 - val_loss: 0.3519 - val_accuracy: 0.8700\n",
            "Epoch 67/1000\n",
            "98/98 [==============================] - 7s 71ms/step - loss: 0.4240 - accuracy: 0.8480 - val_loss: 0.3673 - val_accuracy: 0.8672\n",
            "Epoch 68/1000\n",
            "98/98 [==============================] - 7s 70ms/step - loss: 0.4233 - accuracy: 0.8501 - val_loss: 0.3557 - val_accuracy: 0.8657\n",
            "Epoch 69/1000\n",
            "98/98 [==============================] - 7s 71ms/step - loss: 0.4044 - accuracy: 0.8553 - val_loss: 0.3570 - val_accuracy: 0.8696\n",
            "Epoch 70/1000\n",
            "98/98 [==============================] - 7s 70ms/step - loss: 0.4175 - accuracy: 0.8479 - val_loss: 0.3544 - val_accuracy: 0.8734\n",
            "Epoch 71/1000\n",
            "98/98 [==============================] - 8s 78ms/step - loss: 0.4062 - accuracy: 0.8555 - val_loss: 0.3567 - val_accuracy: 0.8665\n",
            "Epoch 72/1000\n",
            "98/98 [==============================] - 7s 75ms/step - loss: 0.3999 - accuracy: 0.8578 - val_loss: 0.3532 - val_accuracy: 0.8703\n",
            "Epoch 73/1000\n",
            "98/98 [==============================] - 7s 69ms/step - loss: 0.4005 - accuracy: 0.8572 - val_loss: 0.3456 - val_accuracy: 0.8719\n",
            "Epoch 74/1000\n",
            "98/98 [==============================] - 8s 81ms/step - loss: 0.3896 - accuracy: 0.8591 - val_loss: 0.3464 - val_accuracy: 0.8723\n",
            "Epoch 75/1000\n",
            "98/98 [==============================] - 7s 74ms/step - loss: 0.3874 - accuracy: 0.8612 - val_loss: 0.3528 - val_accuracy: 0.8727\n",
            "Epoch 76/1000\n",
            "98/98 [==============================] - 7s 74ms/step - loss: 0.3846 - accuracy: 0.8624 - val_loss: 0.3567 - val_accuracy: 0.8688\n",
            "Epoch 77/1000\n",
            "98/98 [==============================] - 7s 76ms/step - loss: 0.3856 - accuracy: 0.8614 - val_loss: 0.3568 - val_accuracy: 0.8766\n",
            "Epoch 78/1000\n",
            "98/98 [==============================] - 8s 82ms/step - loss: 0.3893 - accuracy: 0.8597 - val_loss: 0.3535 - val_accuracy: 0.8700\n",
            "Epoch 79/1000\n",
            "98/98 [==============================] - 8s 81ms/step - loss: 0.3756 - accuracy: 0.8664 - val_loss: 0.3437 - val_accuracy: 0.8746\n",
            "Epoch 80/1000\n",
            "98/98 [==============================] - 8s 77ms/step - loss: 0.3740 - accuracy: 0.8634 - val_loss: 0.3412 - val_accuracy: 0.8773\n",
            "Epoch 81/1000\n",
            "98/98 [==============================] - 7s 71ms/step - loss: 0.3677 - accuracy: 0.8664 - val_loss: 0.3496 - val_accuracy: 0.8750\n",
            "Epoch 82/1000\n",
            "98/98 [==============================] - 7s 70ms/step - loss: 0.3828 - accuracy: 0.8646 - val_loss: 0.3417 - val_accuracy: 0.8789\n",
            "Epoch 83/1000\n",
            "98/98 [==============================] - 7s 70ms/step - loss: 0.3717 - accuracy: 0.8672 - val_loss: 0.3388 - val_accuracy: 0.8738\n",
            "Epoch 84/1000\n",
            "98/98 [==============================] - 7s 69ms/step - loss: 0.3733 - accuracy: 0.8624 - val_loss: 0.3622 - val_accuracy: 0.8727\n",
            "Epoch 85/1000\n",
            "98/98 [==============================] - 7s 70ms/step - loss: 0.3778 - accuracy: 0.8642 - val_loss: 0.3301 - val_accuracy: 0.8738\n",
            "Epoch 86/1000\n",
            "98/98 [==============================] - 7s 70ms/step - loss: 0.3716 - accuracy: 0.8682 - val_loss: 0.3430 - val_accuracy: 0.8758\n",
            "Epoch 87/1000\n",
            "98/98 [==============================] - 7s 71ms/step - loss: 0.3728 - accuracy: 0.8662 - val_loss: 0.3257 - val_accuracy: 0.8746\n",
            "Epoch 88/1000\n",
            "98/98 [==============================] - 7s 69ms/step - loss: 0.3651 - accuracy: 0.8699 - val_loss: 0.3293 - val_accuracy: 0.8773\n",
            "Epoch 89/1000\n",
            "98/98 [==============================] - 7s 70ms/step - loss: 0.3678 - accuracy: 0.8643 - val_loss: 0.3230 - val_accuracy: 0.8804\n",
            "Epoch 90/1000\n",
            "98/98 [==============================] - 7s 69ms/step - loss: 0.3624 - accuracy: 0.8694 - val_loss: 0.3271 - val_accuracy: 0.8800\n",
            "Epoch 91/1000\n",
            "98/98 [==============================] - 7s 70ms/step - loss: 0.3596 - accuracy: 0.8711 - val_loss: 0.3238 - val_accuracy: 0.8843\n",
            "Epoch 92/1000\n",
            "98/98 [==============================] - 7s 71ms/step - loss: 0.3683 - accuracy: 0.8666 - val_loss: 0.3368 - val_accuracy: 0.8738\n",
            "Epoch 93/1000\n",
            "98/98 [==============================] - 7s 69ms/step - loss: 0.3479 - accuracy: 0.8762 - val_loss: 0.3265 - val_accuracy: 0.8758\n",
            "Epoch 94/1000\n",
            "98/98 [==============================] - 7s 70ms/step - loss: 0.3488 - accuracy: 0.8729 - val_loss: 0.3315 - val_accuracy: 0.8746\n",
            "Epoch 95/1000\n",
            "98/98 [==============================] - 7s 72ms/step - loss: 0.3447 - accuracy: 0.8758 - val_loss: 0.3277 - val_accuracy: 0.8754\n",
            "Epoch 96/1000\n",
            "98/98 [==============================] - 7s 70ms/step - loss: 0.3468 - accuracy: 0.8757 - val_loss: 0.3195 - val_accuracy: 0.8777\n",
            "Epoch 97/1000\n",
            "98/98 [==============================] - 7s 69ms/step - loss: 0.3403 - accuracy: 0.8771 - val_loss: 0.3340 - val_accuracy: 0.8773\n",
            "Epoch 98/1000\n",
            "98/98 [==============================] - 7s 69ms/step - loss: 0.3518 - accuracy: 0.8733 - val_loss: 0.3358 - val_accuracy: 0.8793\n",
            "Epoch 99/1000\n",
            "98/98 [==============================] - 7s 70ms/step - loss: 0.3373 - accuracy: 0.8786 - val_loss: 0.3327 - val_accuracy: 0.8800\n",
            "Epoch 100/1000\n",
            "98/98 [==============================] - 7s 69ms/step - loss: 0.3338 - accuracy: 0.8773 - val_loss: 0.3196 - val_accuracy: 0.8789\n",
            "Epoch 101/1000\n",
            "98/98 [==============================] - 7s 73ms/step - loss: 0.3375 - accuracy: 0.8778 - val_loss: 0.3155 - val_accuracy: 0.8816\n",
            "Epoch 102/1000\n",
            "98/98 [==============================] - 7s 71ms/step - loss: 0.3338 - accuracy: 0.8772 - val_loss: 0.3371 - val_accuracy: 0.8793\n",
            "Epoch 103/1000\n",
            "98/98 [==============================] - 7s 70ms/step - loss: 0.3312 - accuracy: 0.8807 - val_loss: 0.3138 - val_accuracy: 0.8851\n",
            "Epoch 104/1000\n",
            "98/98 [==============================] - 7s 72ms/step - loss: 0.3303 - accuracy: 0.8788 - val_loss: 0.3330 - val_accuracy: 0.8773\n",
            "Epoch 105/1000\n",
            "98/98 [==============================] - 7s 71ms/step - loss: 0.3297 - accuracy: 0.8772 - val_loss: 0.3258 - val_accuracy: 0.8843\n",
            "Epoch 106/1000\n",
            "98/98 [==============================] - 7s 72ms/step - loss: 0.3323 - accuracy: 0.8766 - val_loss: 0.3167 - val_accuracy: 0.8812\n",
            "Epoch 107/1000\n",
            "98/98 [==============================] - 7s 72ms/step - loss: 0.3309 - accuracy: 0.8782 - val_loss: 0.3178 - val_accuracy: 0.8812\n",
            "Epoch 108/1000\n",
            "98/98 [==============================] - 7s 75ms/step - loss: 0.3277 - accuracy: 0.8799 - val_loss: 0.3284 - val_accuracy: 0.8781\n",
            "Epoch 109/1000\n",
            "98/98 [==============================] - 7s 74ms/step - loss: 0.3278 - accuracy: 0.8809 - val_loss: 0.3189 - val_accuracy: 0.8820\n",
            "Epoch 110/1000\n",
            "98/98 [==============================] - 7s 71ms/step - loss: 0.3122 - accuracy: 0.8838 - val_loss: 0.3298 - val_accuracy: 0.8804\n",
            "Epoch 111/1000\n",
            "97/98 [============================>.] - ETA: 0s - loss: 0.3329 - accuracy: 0.8786Restoring model weights from the end of the best epoch: 103.\n",
            "98/98 [==============================] - 7s 71ms/step - loss: 0.3333 - accuracy: 0.8786 - val_loss: 0.3298 - val_accuracy: 0.8797\n",
            "Epoch 111: early stopping\n",
            "135/135 [==============================] - 3s 11ms/step - loss: 0.3055 - accuracy: 0.8924\n"
          ]
        },
        {
          "data": {
            "text/plain": [
              "[0.30545398592948914, 0.8923578858375549]"
            ]
          },
          "execution_count": 43,
          "metadata": {},
          "output_type": "execute_result"
        }
      ],
      "source": [
        "from keras import callbacks\n",
        "from keras.layers import Embedding, Dense,LSTM,Dense, Dropout, SpatialDropout1D\n",
        "from keras.models import Sequential\n",
        "from keras.initializers import Constant\n",
        "from keras.callbacks import EarlyStopping, ModelCheckpoint\n",
        "\n",
        "\n",
        "callback = [EarlyStopping(monitor = 'val_loss',\n",
        "                          patience = 8,\n",
        "                          verbose = 1,\n",
        "                          restore_best_weights=True),]\n",
        "tab = {}\n",
        "optimizer = keras.optimizers.Adam(learning_rate=0.0007)\n",
        "model=Sequential()\n",
        "\n",
        "model.add(Embedding(\n",
        "    15728,\n",
        "    100,\n",
        "    weights=[embedding_matrix], \n",
        "    trainable = False\n",
        "    ))\n",
        "# model.add(SpatialDropout101D(0.25))\n",
        "model.add(Dropout(0.3))\n",
        "model.add(LSTM(50, return_sequences=True))\n",
        "model.add(LSTM(25))\n",
        "model.add(Dropout(0.3))\n",
        "model.add(Dense(6,activation='softmax'))\n",
        "model.compile(loss='sparse_categorical_crossentropy', metrics=['accuracy'], optimizer=optimizer)\n",
        "history = model.fit(padded_sequence, train.target, epochs=1000, validation_split=0.15, callbacks=callback, batch_size=150)\n",
        "model.save(\"keras_model.h5\")\n",
        "model.evaluate(padded_sequence_test, test.target)"
      ]
    },
    {
      "cell_type": "markdown",
      "metadata": {},
      "source": [
        "### Learning curve"
      ]
    },
    {
      "cell_type": "code",
      "execution_count": 46,
      "metadata": {
        "id": "F8qA73axytVU"
      },
      "outputs": [],
      "source": [
        "import matplotlib.pyplot as plt\n",
        "plt.style.use('ggplot')\n",
        "\n",
        "def plot_history(history):\n",
        "    acc = history.history['accuracy']\n",
        "    val_acc = history.history['val_accuracy']\n",
        "    loss = history.history['loss']\n",
        "    val_loss = history.history['val_loss']\n",
        "    x = range(1, len(acc) + 1)\n",
        "\n",
        "    plt.figure(figsize=(12, 5))\n",
        "    plt.subplot(1, 2, 1)\n",
        "    plt.plot(x, acc, 'b', label='Training acc')\n",
        "    plt.plot(x, val_acc, 'r', label='Validation acc')\n",
        "    plt.title('Training and validation accuracy')\n",
        "    plt.legend()\n",
        "    plt.subplot(1, 2, 2)\n",
        "    plt.plot(x, loss, 'b', label='Training loss')\n",
        "    plt.plot(x, val_loss, 'r', label='Validation loss')\n",
        "    plt.title('Training and validation loss')\n",
        "    plt.legend()"
      ]
    },
    {
      "cell_type": "code",
      "execution_count": 47,
      "metadata": {
        "colab": {
          "base_uri": "https://localhost:8080/",
          "height": 337
        },
        "id": "XeYTLdQxywzo",
        "outputId": "48a21f98-1427-4650-87cb-41689111da55"
      },
      "outputs": [
        {
          "data": {
            "image/png": "[encoded data removed]",
            "text/plain": [
              "<Figure size 864x360 with 2 Axes>"
            ]
          },
          "metadata": {},
          "output_type": "display_data"
        }
      ],
      "source": [
        "plot_history(history)"
      ]
    },
    {
      "cell_type": "code",
      "execution_count": null,
      "metadata": {},
      "outputs": [],
      "source": []
    }
  ],
  "metadata": {
    "colab": {
      "collapsed_sections": [],
      "name": "keras.ipynb",
      "provenance": []
    },
    "interpreter": {
      "hash": "dae70258655f884a3dc71f6681bcd80e8df9eed8118776e81fd81fbc2cc0f272"
    },
    "kernelspec": {
      "display_name": "Python 3.9.7 ('dasc')",
      "language": "python",
      "name": "python3"
    },
    "language_info": {
      "codemirror_mode": {
        "name": "ipython",
        "version": 3
      },
      "file_extension": ".py",
      "mimetype": "text/x-python",
      "name": "python",
      "nbconvert_exporter": "python",
      "pygments_lexer": "ipython3",
      "version": "3.9.7"
    },
    "orig_nbformat": 4
  },
  "nbformat": 4,
  "nbformat_minor": 0
}
